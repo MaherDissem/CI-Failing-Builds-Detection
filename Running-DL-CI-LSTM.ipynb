{
  "nbformat": 4,
  "nbformat_minor": 0,
  "metadata": {
    "colab": {
      "name": "Replicating-ETS-work.ipynb",
      "provenance": [],
      "collapsed_sections": []
    },
    "kernelspec": {
      "name": "python3",
      "display_name": "Python 3"
    },
    "language_info": {
      "name": "python"
    }
  },
  "cells": [
    {
      "cell_type": "code",
      "execution_count": null,
      "metadata": {
        "colab": {
          "base_uri": "https://localhost:8080/"
        },
        "id": "C2VljTOCHxy_",
        "outputId": "90a3daf7-7d4d-4f35-ddb5-7be1a4e4a10d"
      },
      "outputs": [
        {
          "output_type": "stream",
          "name": "stdout",
          "text": [
            "/content/drive/MyDrive/CI/replicating-ets/DL-CIBuild\n"
          ]
        }
      ],
      "source": [
        "% cd /content/drive/MyDrive/CI/replicating-ets/DL-CIBuild"
      ]
    },
    {
      "cell_type": "code",
      "source": [
        "! python<<< 'import os; print(os.listdir())'"
      ],
      "metadata": {
        "colab": {
          "base_uri": "https://localhost:8080/"
        },
        "id": "gBm0sx8hbNGA",
        "outputId": "0dd34502-4cd4-4eaf-8f15-ce6234ccdf10"
      },
      "execution_count": null,
      "outputs": [
        {
          "output_type": "stream",
          "name": "stdout",
          "text": [
            "['.git', 'DL-CIBuild scripts', 'ML scripts', 'README.md', 'dataset']\n"
          ]
        }
      ]
    },
    {
      "cell_type": "code",
      "source": [
        "! git clone https://github.com/stilab-ets/DL-CIBuild.git"
      ],
      "metadata": {
        "colab": {
          "base_uri": "https://localhost:8080/"
        },
        "id": "VEh-uDsAILvL",
        "outputId": "efb10cef-431d-4611-8f17-1f9ea2464108"
      },
      "execution_count": null,
      "outputs": [
        {
          "output_type": "stream",
          "name": "stdout",
          "text": [
            "Cloning into 'DL-CIBuild'...\n",
            "remote: Enumerating objects: 51, done.\u001b[K\n",
            "remote: Total 51 (delta 0), reused 0 (delta 0), pack-reused 51\u001b[K\n",
            "Unpacking objects: 100% (51/51), done.\n"
          ]
        }
      ]
    },
    {
      "cell_type": "code",
      "source": [
        "! cp -r /content/drive/MyDrive/CI/replicating-ets/DL-CIBuild/dataset /content/drive/MyDrive/CI/replicating-ets/DL-CIBuild/DL-CIBuild\\ scripts"
      ],
      "metadata": {
        "id": "1MIWM5ujIakm"
      },
      "execution_count": null,
      "outputs": []
    },
    {
      "cell_type": "code",
      "source": [
        "!pip install optunity &> /dev/null\n",
        "!pip install ConfigSpace &> /dev/null\n",
        "!pip install hpbandster &> /dev/null"
      ],
      "metadata": {
        "id": "7ByLqfuTJDxZ"
      },
      "execution_count": null,
      "outputs": []
    },
    {
      "cell_type": "code",
      "source": [
        "! python /content/drive/MyDrive/CI/replicating-ets/DL-CIBuild/DL-CIBuild\\ scripts/validationExperiments.py"
      ],
      "metadata": {
        "colab": {
          "base_uri": "https://localhost:8080/"
        },
        "id": "dlSYKldDMkuE",
        "outputId": "61d1d2f1-bc79-42f5-ba77-d871bc6cf36a"
      },
      "execution_count": null,
      "outputs": [
        {
          "output_type": "stream",
          "name": "stdout",
          "text": [
            "params of GA {'population_size': 2, 'max_generations': 2, 'retain': 0.7, 'random_select': 0.1, 'mutate_chance': 0.1}\n",
            "*********************************** REP(GA)  1\n",
            "\r  0% 0/2 [00:00<?, ?it/s]2022-03-23 11:53:47.100465: E tensorflow/stream_executor/cuda/cuda_driver.cc:271] failed call to cuInit: CUDA_ERROR_NO_DEVICE: no CUDA-capable device is detected\n",
            "solution  1  trained\n",
            "solution  2  trained\n",
            "100% 2/2 [04:42<00:00, 141.21s/it]\n",
            "Generation average: 77.67%\n",
            "Generation evolving..\n",
            "*********************************** REP(GA)  2\n",
            "  0% 0/1 [00:00<?, ?it/s]solution  1  trained\n",
            "100% 1/1 [00:00<00:00, 2864.96it/s]\n",
            "Generation average: 77.68%\n",
            "Generation evolving..\n",
            "for params  {'nb_units': 32, 'nb_layers': 1, 'optimizer': 'rmsprop', 'time_step': 32, 'nb_epochs': 6, 'nb_batch': 64, 'drop_proba': 0.05} the score in the train =  0.7768359569769927\n",
            "1 *************************************** TRAIN jruby.csv\n",
            "entry_train {'AUC': 0.7434079668503283, 'accuracy': 0.7400647141790425, 'F1': 0.7768359569769927, 'validation_loss': 0.5103190541267395, 'time': 282.4259356779994, 'params': {'nb_units': 32, 'nb_layers': 1, 'optimizer': 'rmsprop', 'time_step': 32, 'nb_epochs': 6, 'nb_batch': 64, 'drop_proba': 0.05}, 'model': <keras.engine.sequential.Sequential object at 0x7ff11df65c90>, 'iter': 1, 'proj': 'jruby.csv', 'algo': 'LSTM'}\n",
            "cloudify.csv\n",
            "graylog2-server.csv\n",
            "jackrabbit-oak.csv\n",
            "metasploit-framework.csv\n",
            "open-build-service.csv\n",
            "openproject.csv\n",
            "rails.csv\n",
            "ruby.csv\n",
            "sonarqube.csv\n",
            "params of GA {'population_size': 2, 'max_generations': 2, 'retain': 0.7, 'random_select': 0.1, 'mutate_chance': 0.1}\n",
            "*********************************** REP(GA)  1\n",
            "  0% 0/2 [00:00<?, ?it/s]solution  1  trained\n",
            "solution  2  trained\n",
            "100% 2/2 [09:13<00:00, 276.67s/it]\n",
            "Generation average: 77.79%\n",
            "Generation evolving..\n",
            "*********************************** REP(GA)  2\n",
            "  0% 0/1 [00:00<?, ?it/s]solution  1  trained\n",
            "100% 1/1 [00:00<00:00, 2467.24it/s]\n",
            "Generation average: 77.90%\n",
            "Generation evolving..\n",
            "for params  {'nb_units': 32, 'nb_layers': 2, 'optimizer': 'adam', 'time_step': 41, 'nb_epochs': 6, 'nb_batch': 8, 'drop_proba': 0.07} the score in the train =  0.7790106664757678\n",
            "2 *************************************** TRAIN jruby.csv\n",
            "entry_train {'AUC': 0.7486424474568009, 'accuracy': 0.7436898040518101, 'F1': 0.7790106664757678, 'validation_loss': 0.5106129050254822, 'time': 553.3379924859992, 'params': {'nb_units': 32, 'nb_layers': 2, 'optimizer': 'adam', 'time_step': 41, 'nb_epochs': 6, 'nb_batch': 8, 'drop_proba': 0.07}, 'model': <keras.engine.sequential.Sequential object at 0x7ff11d172850>, 'iter': 2, 'proj': 'jruby.csv', 'algo': 'LSTM'}\n",
            "cloudify.csv\n",
            "graylog2-server.csv\n",
            "jackrabbit-oak.csv\n",
            "metasploit-framework.csv\n",
            "open-build-service.csv\n",
            "openproject.csv\n",
            "rails.csv\n",
            "ruby.csv\n",
            "sonarqube.csv\n",
            "params of GA {'population_size': 2, 'max_generations': 2, 'retain': 0.7, 'random_select': 0.1, 'mutate_chance': 0.1}\n",
            "*********************************** REP(GA)  1\n",
            "  0% 0/2 [00:00<?, ?it/s]solution  1  trained\n",
            "solution  2  trained\n",
            "100% 2/2 [25:33<00:00, 766.65s/it]\n",
            "Generation average: 77.71%\n",
            "Generation evolving..\n",
            "*********************************** REP(GA)  2\n",
            "  0% 0/1 [00:00<?, ?it/s]solution  1  trained\n",
            "100% 1/1 [00:00<00:00, 2255.00it/s]\n",
            "Generation average: 77.96%\n",
            "Generation evolving..\n",
            "for params  {'nb_units': 32, 'nb_layers': 1, 'optimizer': 'adam', 'time_step': 38, 'nb_epochs': 5, 'nb_batch': 4, 'drop_proba': 0.09999999999999999} the score in the train =  0.7795956276344932\n",
            "3 *************************************** TRAIN jruby.csv\n",
            "entry_train {'AUC': 0.7483356399422072, 'accuracy': 0.7439196480451564, 'F1': 0.7795956276344932, 'validation_loss': 0.5106632113456726, 'time': 1533.3007901269993, 'params': {'nb_units': 32, 'nb_layers': 1, 'optimizer': 'adam', 'time_step': 38, 'nb_epochs': 5, 'nb_batch': 4, 'drop_proba': 0.09999999999999999}, 'model': <keras.engine.sequential.Sequential object at 0x7ff113aa7ed0>, 'iter': 3, 'proj': 'jruby.csv', 'algo': 'LSTM'}\n",
            "cloudify.csv\n",
            "graylog2-server.csv\n",
            "jackrabbit-oak.csv\n",
            "metasploit-framework.csv\n",
            "open-build-service.csv\n",
            "openproject.csv\n",
            "rails.csv\n",
            "ruby.csv\n",
            "sonarqube.csv\n",
            "params of GA {'population_size': 2, 'max_generations': 2, 'retain': 0.7, 'random_select': 0.1, 'mutate_chance': 0.1}\n",
            "*********************************** REP(GA)  1\n",
            "  0% 0/2 [00:00<?, ?it/s]solution  1  trained\n",
            "solution  2  trained\n",
            "100% 2/2 [04:36<00:00, 138.45s/it]\n",
            "Generation average: 76.73%\n",
            "Generation evolving..\n",
            "*********************************** REP(GA)  2\n",
            "  0% 0/2 [00:00<?, ?it/s]solution  1  trained\n",
            "solution  2  trained\n",
            "100% 2/2 [00:00<00:00, 3825.17it/s]\n",
            "Generation average: 76.73%\n",
            "Generation evolving..\n",
            "for params  {'nb_units': 32, 'nb_layers': 3, 'optimizer': 'rmsprop', 'time_step': 51, 'nb_epochs': 6, 'nb_batch': 32, 'drop_proba': 0.02} the score in the train =  0.7681382238816897\n",
            "for params  {'nb_units': 32, 'nb_layers': 1, 'optimizer': 'adam', 'time_step': 48, 'nb_epochs': 4, 'nb_batch': 32, 'drop_proba': 0.07} the score in the train =  0.766493373361646\n",
            "4 *************************************** TRAIN jruby.csv\n",
            "entry_train {'AUC': 0.7478293835581883, 'accuracy': 0.7368289845437926, 'F1': 0.7681382238816897, 'validation_loss': 0.5112618207931519, 'time': 276.9033513889999, 'params': {'nb_units': 32, 'nb_layers': 3, 'optimizer': 'rmsprop', 'time_step': 51, 'nb_epochs': 6, 'nb_batch': 32, 'drop_proba': 0.02}, 'model': <keras.engine.sequential.Sequential object at 0x7ff114293f90>, 'iter': 4, 'proj': 'jruby.csv', 'algo': 'LSTM'}\n",
            "cloudify.csv\n",
            "graylog2-server.csv\n",
            "jackrabbit-oak.csv\n",
            "metasploit-framework.csv\n",
            "open-build-service.csv\n",
            "openproject.csv\n",
            "rails.csv\n",
            "ruby.csv\n",
            "sonarqube.csv\n",
            "params of GA {'population_size': 2, 'max_generations': 2, 'retain': 0.7, 'random_select': 0.1, 'mutate_chance': 0.1}\n",
            "*********************************** REP(GA)  1\n",
            "  0% 0/2 [00:00<?, ?it/s]solution  2  trained\n",
            "solution  1  trained\n",
            "100% 2/2 [08:10<00:00, 245.48s/it]\n",
            "Generation average: 77.90%\n",
            "Generation evolving..\n",
            "*********************************** REP(GA)  2\n",
            "  0% 0/1 [00:00<?, ?it/s]solution  1  trained\n",
            "100% 1/1 [00:00<00:00, 3196.88it/s]\n",
            "Generation average: 78.03%\n",
            "Generation evolving..\n",
            "for params  {'nb_units': 32, 'nb_layers': 2, 'optimizer': 'adam', 'time_step': 40, 'nb_epochs': 5, 'nb_batch': 64, 'drop_proba': 0.18000000000000002} the score in the train =  0.7802786709539121\n",
            "5 *************************************** TRAIN jruby.csv\n",
            "entry_train {'AUC': 0.7491734022006784, 'accuracy': 0.7447073474470735, 'F1': 0.7802786709539121, 'validation_loss': 0.5105629563331604, 'time': 490.96413923099954, 'params': {'nb_units': 32, 'nb_layers': 2, 'optimizer': 'adam', 'time_step': 40, 'nb_epochs': 5, 'nb_batch': 64, 'drop_proba': 0.18000000000000002}, 'model': <keras.engine.sequential.Sequential object at 0x7ff1181b9ad0>, 'iter': 5, 'proj': 'jruby.csv', 'algo': 'LSTM'}\n",
            "cloudify.csv\n",
            "graylog2-server.csv\n",
            "jackrabbit-oak.csv\n",
            "metasploit-framework.csv\n",
            "open-build-service.csv\n",
            "openproject.csv\n",
            "rails.csv\n",
            "ruby.csv\n",
            "sonarqube.csv\n"
          ]
        }
      ]
    },
    {
      "cell_type": "code",
      "source": [
        ""
      ],
      "metadata": {
        "id": "wLpLB5ZQnwM5"
      },
      "execution_count": null,
      "outputs": []
    }
  ]
}