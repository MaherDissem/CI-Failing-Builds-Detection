{
 "cells": [
  {
   "cell_type": "markdown",
   "metadata": {},
   "source": [
    "### data loading"
   ]
  },
  {
   "cell_type": "code",
   "execution_count": 53,
   "metadata": {},
   "outputs": [],
   "source": [
    "import os\n",
    "import pandas as pd\n",
    "import numpy as np\n",
    "import matplotlib.pyplot as plt"
   ]
  },
  {
   "cell_type": "code",
   "execution_count": 4,
   "metadata": {},
   "outputs": [],
   "source": [
    "df=pd.DataFrame(\n",
    "    columns = ['build_Failed', 'gh_is_pr', 'git_prev_commit_resolution_status',\n",
    "       'gh_team_size', 'gh_num_commit_comments', 'git_diff_src_churn',\n",
    "       'git_diff_test_churn', 'gh_diff_files_added', 'gh_diff_files_deleted',\n",
    "       'gh_diff_files_modified', 'gh_diff_tests_added',\n",
    "       'gh_diff_tests_deleted', 'gh_diff_src_files', 'gh_diff_doc_files',\n",
    "       'gh_diff_other_files', 'gh_sloc', 'gh_test_lines_per_kloc',\n",
    "       'gh_test_cases_per_kloc', 'gh_asserts_cases_per_kloc', 'tr_build_id',\n",
    "       'gh_build_started_at'],\n",
    "    dtype='object')\n",
    "\n",
    "\n",
    "for dirname, _, filenames in os.walk('/mnt/d/PFE/Code/dataset'):\n",
    "    for filename in filenames:\n",
    "        if filename[-4:]==\".csv\":\n",
    "            df = pd.concat([df, pd.read_csv(os.path.join(dirname, filename))])"
   ]
  },
  {
   "cell_type": "code",
   "execution_count": 77,
   "metadata": {},
   "outputs": [],
   "source": [
    "X = df.iloc[:,1:19]\n",
    "y = df.iloc[:,0].astype(int)\n",
    "\n",
    "from sklearn.model_selection import train_test_split\n",
    "X_train, X_val , y_train, y_val = train_test_split(np.array(X), np.array(y), test_size=0.2, shuffle=True, stratify=y) # keep ratio of classes in split"
   ]
  },
  {
   "cell_type": "markdown",
   "metadata": {},
   "source": [
    "### modifying trees"
   ]
  },
  {
   "cell_type": "markdown",
   "metadata": {},
   "source": [
    "#### Documentation\n",
    "https://scikit-learn.org/stable/auto_examples/tree/plot_unveil_tree_structure.html#sphx-glr-auto-examples-tree-plot-unveil-tree-structure-py\n"
   ]
  },
  {
   "cell_type": "code",
   "execution_count": 16,
   "metadata": {},
   "outputs": [],
   "source": [
    "from sklearn.tree import DecisionTreeClassifier"
   ]
  },
  {
   "cell_type": "code",
   "execution_count": 131,
   "metadata": {},
   "outputs": [],
   "source": [
    "dt = DecisionTreeClassifier(max_depth=3, splitter='random').fit(X_train, y_train)"
   ]
  },
  {
   "cell_type": "markdown",
   "metadata": {},
   "source": [
    "#### Displaying the tree"
   ]
  },
  {
   "cell_type": "code",
   "execution_count": 132,
   "metadata": {},
   "outputs": [
    {
     "name": "stdout",
     "output_type": "stream",
     "text": [
      "if (gh_test_cases_per_kloc <= 647.997) and (gh_test_cases_per_kloc <= 292.367) and (gh_test_lines_per_kloc <= 28.938) then class: pass (proba: 79.37%) | based on 29,971 samples\n",
      "\n",
      "if (gh_test_cases_per_kloc <= 647.997) and (gh_test_cases_per_kloc <= 292.367) and (gh_test_lines_per_kloc > 28.938) then class: pass (proba: 68.83%) | based on 18,355 samples\n",
      "\n",
      "if (gh_test_cases_per_kloc <= 647.997) and (gh_test_cases_per_kloc > 292.367) and (gh_diff_other_files <= 121796.95) then class: pass (proba: 65.38%) | based on 15,525 samples\n",
      "\n",
      "if (gh_test_cases_per_kloc <= 647.997) and (gh_test_cases_per_kloc > 292.367) and (gh_diff_other_files > 121796.95) then class: fail (proba: 58.56%) | based on 5,015 samples\n",
      "\n",
      "if (gh_test_cases_per_kloc > 647.997) and (git_prev_commit_resolution_status <= 46.685) and (gh_diff_files_deleted <= 10.834) then class: fail (proba: 69.16%) | based on 3,551 samples\n",
      "\n",
      "if (gh_test_cases_per_kloc > 647.997) and (git_prev_commit_resolution_status <= 46.685) and (gh_diff_files_deleted > 10.834) then class: fail (proba: 79.28%) | based on 473 samples\n",
      "\n",
      "if (gh_test_cases_per_kloc > 647.997) and (git_prev_commit_resolution_status > 46.685) and (gh_test_lines_per_kloc > 283.654) then class: fail (proba: 100.0%) | based on 117 samples\n",
      "\n",
      "if (gh_test_cases_per_kloc > 647.997) and (git_prev_commit_resolution_status > 46.685) and (gh_test_lines_per_kloc <= 283.654) then class: fail (proba: 56.14%) | based on 57 samples\n",
      "\n"
     ]
    }
   ],
   "source": [
    "from sklearn.tree import _tree\n",
    "\n",
    "def get_rules(tree, feature_names, class_names):\n",
    "    tree_ = tree.tree_\n",
    "    feature_name = [\n",
    "        feature_names[i] if i != _tree.TREE_UNDEFINED else \"undefined!\"\n",
    "        for i in tree_.feature\n",
    "    ]\n",
    "\n",
    "    paths = []\n",
    "    path = []\n",
    "    \n",
    "    def recurse(node, path, paths):\n",
    "        \n",
    "        if tree_.feature[node] != _tree.TREE_UNDEFINED:\n",
    "            name = feature_name[node]\n",
    "            threshold = tree_.threshold[node]\n",
    "            p1, p2 = list(path), list(path)\n",
    "            p1 += [f\"({name} <= {np.round(threshold, 3)})\"]\n",
    "            recurse(tree_.children_left[node], p1, paths)\n",
    "            p2 += [f\"({name} > {np.round(threshold, 3)})\"]\n",
    "            recurse(tree_.children_right[node], p2, paths)\n",
    "        else:\n",
    "            path += [(tree_.value[node], tree_.n_node_samples[node])]\n",
    "            paths += [path]\n",
    "            \n",
    "    recurse(0, path, paths)\n",
    "\n",
    "    # sort by samples count\n",
    "    samples_count = [p[-1][1] for p in paths]\n",
    "    ii = list(np.argsort(samples_count))\n",
    "    paths = [paths[i] for i in reversed(ii)]\n",
    "    \n",
    "    rules = []\n",
    "    for path in paths:\n",
    "        rule = \"if \"\n",
    "        \n",
    "        for p in path[:-1]:\n",
    "            if rule != \"if \":\n",
    "                rule += \" and \"\n",
    "            rule += str(p)\n",
    "        rule += \" then \"\n",
    "        if class_names is None:\n",
    "            rule += \"response: \"+str(np.round(path[-1][0][0][0],3))\n",
    "        else:\n",
    "            classes = path[-1][0][0]\n",
    "            l = np.argmax(classes)\n",
    "            rule += f\"class: {class_names[l]} (proba: {np.round(100.0*classes[l]/np.sum(classes),2)}%)\"\n",
    "        rule += f\" | based on {path[-1][1]:,} samples\\n\"\n",
    "        rules += [rule]\n",
    "        \n",
    "    return rules\n",
    "\n",
    "rules = get_rules(dt, list(df.columns), ['pass','fail'])\n",
    "for r in rules:\n",
    "    print(r)\n",
    "\n"
   ]
  },
  {
   "cell_type": "code",
   "execution_count": 166,
   "metadata": {},
   "outputs": [
    {
     "data": {
      "image/png": "[encoded data removed]",
      "text/plain": [
       "<Figure size 1080x720 with 1 Axes>"
      ]
     },
     "metadata": {
      "needs_background": "light"
     },
     "output_type": "display_data"
    }
   ],
   "source": [
    "from sklearn import tree\n",
    "\n",
    "# plot tree\n",
    "plt.figure(figsize=(15,10))  # set plot size (denoted in inches)\n",
    "tree.plot_tree(dt, fontsize=10, class_names=['pass','fail'])\n",
    "plt.show()"
   ]
  },
  {
   "cell_type": "markdown",
   "metadata": {},
   "source": [
    "#### Methods"
   ]
  },
  {
   "cell_type": "code",
   "execution_count": 134,
   "metadata": {},
   "outputs": [
    {
     "name": "stdout",
     "output_type": "stream",
     "text": [
      "15\n",
      "[17 17 16 -2 -2 14 -2 -2  2  8 -2 -2 16 -2 -2]\n",
      "[ 6.47996955e+02  2.92367340e+02  2.89375357e+01 -2.00000000e+00\n",
      " -2.00000000e+00  1.21796950e+05 -2.00000000e+00 -2.00000000e+00\n",
      "  4.66845316e+01  1.08344524e+01 -2.00000000e+00 -2.00000000e+00\n",
      "  2.83653849e+02 -2.00000000e+00 -2.00000000e+00]\n"
     ]
    }
   ],
   "source": [
    "print(dt.tree_.node_count)    # nbr nodes\n",
    "print(dt.tree_.feature)       # list of features, one feature for each node\n",
    "print(dt.tree_.threshold)     # All the thresholds\n",
    "\n",
    "dt.tree_.threshold[3] = 10.0  # Manually modifying a threshold   "
   ]
  },
  {
   "cell_type": "code",
   "execution_count": 155,
   "metadata": {},
   "outputs": [
    {
     "data": {
      "text/plain": [
       "1"
      ]
     },
     "execution_count": 155,
     "metadata": {},
     "output_type": "execute_result"
    }
   ],
   "source": [
    "clf.tree_.children_left[0] # children_left[i]: id of the left child of node i or -1 if leaf node\n",
    "# DFS traversal "
   ]
  },
  {
   "cell_type": "markdown",
   "metadata": {},
   "source": [
    "children_left[i]: id of the left child of node i or -1 if leaf node\n",
    "\n",
    "children_right[i]: id of the right child of node i or -1 if leaf node\n",
    "\n",
    "feature[i]: feature used for splitting node i\n",
    "\n",
    "threshold[i]: threshold value at node i\n",
    "\n",
    "n_node_samples[i]: the number of of training samples reaching node i\n",
    "\n",
    "impurity[i]: the impurity at node "
   ]
  },
  {
   "cell_type": "code",
   "execution_count": 47,
   "metadata": {},
   "outputs": [
    {
     "name": "stdout",
     "output_type": "stream",
     "text": [
      "The binary tree structure has 15 nodes and has the following tree structure:\n",
      "\n",
      "node=0 is a split node: go to node 1 if X[i, gh_sloc] <= 436.0552215576172 else to node 8.\n",
      "\tnode=1 is a split node: go to node 2 if X[i, gh_diff_other_files] <= 57233.5 else to node 5.\n",
      "\t\tnode=2 is a split node: go to node 3 if X[i, gh_test_cases_per_kloc] <= 11.375139236450195 else to node 4.\n",
      "\t\t\tnode=3 is a leaf node.\n",
      "\t\t\tnode=4 is a leaf node.\n",
      "\t\tnode=5 is a split node: go to node 6 if X[i, gh_test_lines_per_kloc] <= 29.131779670715332 else to node 7.\n",
      "\t\t\tnode=6 is a leaf node.\n",
      "\t\t\tnode=7 is a leaf node.\n",
      "\tnode=8 is a split node: go to node 9 if X[i, gh_test_cases_per_kloc] <= 547.5184326171875 else to node 12.\n",
      "\t\tnode=9 is a split node: go to node 10 if X[i, gh_test_cases_per_kloc] <= 529.2339172363281 else to node 11.\n",
      "\t\t\tnode=10 is a leaf node.\n",
      "\t\t\tnode=11 is a leaf node.\n",
      "\t\tnode=12 is a split node: go to node 13 if X[i, gh_sloc] <= 3112.927001953125 else to node 14.\n",
      "\t\t\tnode=13 is a leaf node.\n",
      "\t\t\tnode=14 is a leaf node.\n"
     ]
    }
   ],
   "source": [
    "clf = dt\n",
    "n_nodes = clf.tree_.node_count\n",
    "children_left = clf.tree_.children_left\n",
    "children_right = clf.tree_.children_right\n",
    "feature = clf.tree_.feature\n",
    "feature_name = [list(df.columns)[i] for i in feature]\n",
    "threshold = clf.tree_.threshold\n",
    "\n",
    "node_depth = np.zeros(shape=n_nodes, dtype=np.int64)\n",
    "is_leaves = np.zeros(shape=n_nodes, dtype=bool)\n",
    "stack = [(0, 0)]  # start with the root node id (0) and its depth (0)\n",
    "while len(stack) > 0:\n",
    "    # `pop` ensures each node is only visited once\n",
    "    node_id, depth = stack.pop()\n",
    "    node_depth[node_id] = depth\n",
    "\n",
    "    # If the left and right child of a node is not the same we have a split\n",
    "    # node\n",
    "    is_split_node = children_left[node_id] != children_right[node_id]\n",
    "    # If a split node, append left and right children and depth to `stack`\n",
    "    # so we can loop through them\n",
    "    if is_split_node:\n",
    "        stack.append((children_left[node_id], depth + 1))\n",
    "        stack.append((children_right[node_id], depth + 1))\n",
    "    else:\n",
    "        is_leaves[node_id] = True\n",
    "\n",
    "print(\n",
    "    \"The binary tree structure has {n} nodes and has \"\n",
    "    \"the following tree structure:\\n\".format(n=n_nodes)\n",
    ")\n",
    "for i in range(n_nodes):\n",
    "    if is_leaves[i]:\n",
    "        print(\n",
    "            \"{space}node={node} is a leaf node.\".format(\n",
    "                space=node_depth[i] * \"\\t\", node=i\n",
    "            )\n",
    "        )\n",
    "    else:\n",
    "        print(\n",
    "            \"{space}node={node} is a split node: \"\n",
    "            \"go to node {left} if X[i, {feature}] <= {threshold} \"\n",
    "            \"else to node {right}.\".format(\n",
    "                space=node_depth[i] * \"\\t\",\n",
    "                node=i,\n",
    "                left=children_left[i],\n",
    "                feature=feature_name[i],\n",
    "                threshold=threshold[i],\n",
    "                right=children_right[i],\n",
    "            )\n",
    "        )"
   ]
  },
  {
   "cell_type": "code",
   "execution_count": 61,
   "metadata": {},
   "outputs": [
    {
     "name": "stdout",
     "output_type": "stream",
     "text": [
      "gh_sloc 0.0\n",
      "gh_diff_other_files 0.0\n",
      "gh_test_cases_per_kloc 0.0\n",
      "tr_build_id 0.0\n",
      "tr_build_id 0.0\n",
      "gh_test_lines_per_kloc 0.0\n",
      "tr_build_id 0.0\n",
      "tr_build_id 0.0\n",
      "gh_test_cases_per_kloc 0.0\n",
      "gh_test_cases_per_kloc 0.0\n",
      "tr_build_id 0.0\n",
      "tr_build_id 0.0\n",
      "gh_sloc 0.0\n",
      "tr_build_id 0.0\n",
      "tr_build_id 0.061644398669160785\n"
     ]
    }
   ],
   "source": [
    "for name, importance in zip(feature_name, dt.feature_importances_):\n",
    "    print(name, importance)"
   ]
  },
  {
   "cell_type": "code",
   "execution_count": 111,
   "metadata": {},
   "outputs": [
    {
     "data": {
      "text/plain": [
       "0.26666666666666666"
      ]
     },
     "execution_count": 111,
     "metadata": {},
     "output_type": "execute_result"
    }
   ],
   "source": [
    "from sklearn.metrics import f1_score \n",
    "f1_score(dt.predict(X_val),y_val)"
   ]
  },
  {
   "cell_type": "code",
   "execution_count": 114,
   "metadata": {},
   "outputs": [
    {
     "data": {
      "text/plain": [
       "0.4819447330147517"
      ]
     },
     "execution_count": 114,
     "metadata": {},
     "output_type": "execute_result"
    }
   ],
   "source": [
    "for i in range(dt.tree_.node_count):\n",
    "    dt.tree_.threshold[i] = 0.0  # Manually modifying a threshold   \n",
    "f1_score(dt.predict(X_val),y_val)"
   ]
  },
  {
   "cell_type": "code",
   "execution_count": null,
   "metadata": {},
   "outputs": [],
   "source": []
  },
  {
   "cell_type": "code",
   "execution_count": null,
   "metadata": {},
   "outputs": [],
   "source": []
  }
 ],
 "metadata": {
  "interpreter": {
   "hash": "e7370f93d1d0cde622a1f8e1c04877d8463912d04d973331ad4851f04de6915a"
  },
  "kernelspec": {
   "display_name": "Python 3.10.4 64-bit",
   "language": "python",
   "name": "python3"
  },
  "language_info": {
   "codemirror_mode": {
    "name": "ipython",
    "version": 3
   },
   "file_extension": ".py",
   "mimetype": "text/x-python",
   "name": "python",
   "nbconvert_exporter": "python",
   "pygments_lexer": "ipython3",
   "version": "3.10.4"
  },
  "orig_nbformat": 4
 },
 "nbformat": 4,
 "nbformat_minor": 2
}
