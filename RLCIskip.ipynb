{
  "cells": [
    {
      "cell_type": "code",
      "execution_count": 3,
      "metadata": {
        "colab": {
          "base_uri": "https://localhost:8080/"
        },
        "id": "tP69n7gVXzgJ",
        "outputId": "ed42284a-79ad-469d-cff4-63d1fa3e5156"
      },
      "outputs": [
        {
          "name": "stdout",
          "output_type": "stream",
          "text": [
            "NVIDIA-SMI has failed because it couldn't communicate with the NVIDIA driver. Make sure that the latest NVIDIA driver is installed and running.\n",
            "\n"
          ]
        }
      ],
      "source": [
        "!nvidia-smi"
      ]
    },
    {
      "cell_type": "markdown",
      "metadata": {
        "id": "mGOPlW30GFbQ"
      },
      "source": [
        "### Data Loading"
      ]
    },
    {
      "cell_type": "code",
      "execution_count": null,
      "metadata": {
        "colab": {
          "base_uri": "https://localhost:8080/"
        },
        "id": "Ybtgjxr_GNBQ",
        "outputId": "c5c80e2b-da03-4788-d7d3-b1ba5de06ea5"
      },
      "outputs": [],
      "source": [
        "from google.colab import drive\n",
        "drive.mount('/content/drive')"
      ]
    },
    {
      "cell_type": "code",
      "execution_count": 68,
      "metadata": {
        "id": "BYNx0HweGFbZ"
      },
      "outputs": [],
      "source": [
        "import os\n",
        "import pandas as pd\n",
        "import numpy as np\n",
        "import matplotlib.pyplot as plt\n",
        "\n",
        "# DL-CI-build dataset (lstm)\n",
        "columns = ['build_Failed', 'gh_is_pr', 'git_prev_commit_resolution_status',\n",
        "    'gh_team_size', 'gh_num_commit_comments', 'git_diff_src_churn',\n",
        "    'git_diff_test_churn', 'gh_diff_files_added', 'gh_diff_files_deleted',\n",
        "    'gh_diff_files_modified', 'gh_diff_tests_added',\n",
        "    'gh_diff_tests_deleted', 'gh_diff_src_files', 'gh_diff_doc_files',\n",
        "    'gh_diff_other_files', 'gh_sloc', 'gh_test_lines_per_kloc',\n",
        "    'gh_test_cases_per_kloc', 'gh_asserts_cases_per_kloc', 'tr_build_id',\n",
        "    'gh_build_started_at']\n",
        "\n",
        "path = '/mnt/d/PFE/Code/CI-Failing-Builds-Detection/dataset'\n",
        "path = '/content/drive/MyDrive/CI/replicating-ets/DL-CIBuild/dataset'\n",
        "valid_proj = 'ruby.csv'\n",
        "cols_to_keep = 18\n",
        "\n",
        "# skipCI dataset\n",
        "columns = ['ci_skipped', 'ns', 'nd', 'nf', 'entropy', 'la', 'ld', 'lt', 'ndev',\n",
        "       'age', 'nuc', 'exp', 'rexp', 'sexp', 'TFC', 'is_doc', 'is_build',\n",
        "       'is_meta', 'is_media', 'is_src', 'is_merge', 'FRM', 'COM', 'CFT',\n",
        "       'classif', 'prev_com_res', 'proj_recent_skip', 'comm_recent_skip',\n",
        "       'same_committer', 'is_fix', 'day_week', 'CM', 'commit_hash']\n",
        "\n",
        "path = '/content/drive/MyDrive/CI/SkipCI-dataset'\n",
        "path = '/mnt/d/PFE/Papers Presentations/1SkipCI/SkipCI/dataset/'\n",
        "\n",
        "# projects list: \n",
        "# candybar-library.csv  GI.csv               mtsar.csv     ransack.csv     SemanticMediaWiki.csv\n",
        "# contextlogger.csv     grammarviz2_src.csv  parallec.csv  SAX.csv         solr-iso639-filter.csv\n",
        "# future.csv            groupdate.csv        pghero.csv    searchkick.csv  steve.csv\n",
        "\n",
        "valid_proj = 'candybar-library.csv'\n",
        "cols_to_keep = 32\n"
      ]
    },
    {
      "cell_type": "markdown",
      "metadata": {
        "id": "eftdHDyrz0ZT"
      },
      "source": [
        "#### Validation on all data"
      ]
    },
    {
      "cell_type": "code",
      "execution_count": 38,
      "metadata": {
        "id": "VQI61uH_Hb49"
      },
      "outputs": [],
      "source": [
        "df = pd.DataFrame(columns=columns, dtype='object')\n",
        "\n",
        "for dirname, _, filenames in os.walk(path):\n",
        "    for filename in filenames:\n",
        "        if filename[-4:]==\".csv\":\n",
        "            df = pd.concat([df, pd.read_csv(os.path.join(dirname, filename))])\n",
        "\n",
        "X = df.iloc[:,1:cols_to_keep]\n",
        "y = df.iloc[:,0].astype(int)\n",
        "\n",
        "from sklearn.model_selection import train_test_split\n",
        "X_train, X_val , y_train, y_val = train_test_split(np.array(X), np.array(y), test_size=0.2, shuffle=True, stratify=y, random_state=42) # keep ratio of classes in split\n",
        "\n",
        "eval_meth = 'eval_on_all_data'"
      ]
    },
    {
      "cell_type": "markdown",
      "metadata": {
        "id": "PSLpqYJbz0ZV"
      },
      "source": [
        "#### Within project validation"
      ]
    },
    {
      "cell_type": "code",
      "execution_count": 69,
      "metadata": {
        "id": "G-mbOYSQHd7h"
      },
      "outputs": [],
      "source": [
        "df = pd.read_csv(os.path.join(path, valid_proj))\n",
        "X = df.iloc[:,1:cols_to_keep]\n",
        "y = df.iloc[:,0].astype(int)\n",
        "\n",
        "from sklearn.model_selection import train_test_split\n",
        "X_train, X_val , y_train, y_val = train_test_split(np.array(X), np.array(y), test_size=0.2, shuffle=True, stratify=y, random_state=42) # keep ratio of classes in split\n",
        "\n",
        "eval_meth = f'within_proj_{valid_proj}'[:-4]"
      ]
    },
    {
      "cell_type": "markdown",
      "metadata": {
        "id": "W-L3TLyNz0ZX"
      },
      "source": [
        "#### Cross project validation"
      ]
    },
    {
      "cell_type": "code",
      "execution_count": 70,
      "metadata": {
        "id": "xkxG_0gSHg9P"
      },
      "outputs": [],
      "source": [
        "df_train = pd.DataFrame(columns=columns, dtype='object')\n",
        "for dirname, _, filenames in os.walk(path):\n",
        "    for filename in filenames:\n",
        "        if filename[-4:]==\".csv\" and filename!=valid_proj:\n",
        "            df_train = pd.concat([df_train, pd.read_csv(os.path.join(dirname, filename))])\n",
        "\n",
        "X_train = np.array(df_train.iloc[:,1:cols_to_keep])\n",
        "y_train = np.array(df_train.iloc[:,0].astype(int))\n",
        "\n",
        "df_val = pd.read_csv(os.path.join(path, valid_proj))\n",
        "df = df_val \n",
        "\n",
        "X_val = np.array(df_val.iloc[:,1:cols_to_keep])\n",
        "y_val = np.array(df_val.iloc[:,0].astype(int))\n",
        "\n",
        "eval_meth = f'cross_proj_{valid_proj}'[:-4]"
      ]
    },
    {
      "cell_type": "markdown",
      "metadata": {
        "id": "y6lmpxnkGFbk"
      },
      "source": [
        "### Modifiable Decision Tree model "
      ]
    },
    {
      "cell_type": "code",
      "execution_count": 41,
      "metadata": {
        "id": "4wzLFR90GFbp"
      },
      "outputs": [],
      "source": [
        "from sklearn.tree import DecisionTreeClassifier\n",
        "from sklearn import tree\n",
        "from sklearn.metrics import f1_score \n",
        "from sklearn.metrics import recall_score\n",
        "from sklearn.metrics import precision_score\n",
        "from sklearn.metrics import accuracy_score\n",
        "from sklearn.metrics import roc_auc_score \n",
        "from sklearn.metrics import confusion_matrix\n",
        "\n",
        "\n",
        "class modDecisionTree:\n",
        "    \"\"\"\n",
        "    Represents the classification model\n",
        "    based on sklearn implementation with added methods for modifying single nodes\n",
        "    nodes are indexed depth first\n",
        "    \"\"\"\n",
        "\n",
        "\n",
        "    def __init__(self, max_depth=3, random_state=42):\n",
        "        # need to add init of other hyper-param\n",
        "        self.max_depth = max_depth\n",
        "        self.model = DecisionTreeClassifier(max_depth=max_depth, splitter='random', random_state=random_state)\n",
        "    \n",
        "\n",
        "    def fit(self, X_train, y_train, columns_names):\n",
        "        self.model.fit(X_train, y_train)\n",
        "        self.tree = self.model.tree_\n",
        "        self.n_nodes = self.tree.node_count       # nbr of nodes\n",
        "        self.features = self.tree.feature         # list of each node's feature\n",
        "        self.thresholds = self.tree.threshold     # list of each node's threshold\n",
        "        self.columns_names = columns_names\n",
        "        self.features_names = [list(self.columns_names)[i] for i in self.features]\n",
        "        self.nodes_type = self.get_nodes_type()  # a node is either a split node or a terminal node/leaf\n",
        "\n",
        "\n",
        "    def evaluate(self, X_val, y_val, reward_only=True, print_confusion=False):\n",
        "        y_pred = self.model.predict(X_val)\n",
        "        metrics = {}\n",
        "        metrics['F1'] = f1_score(y_val, y_pred)\n",
        "        if not reward_only:\n",
        "            metrics['recall'] = recall_score(y_val, y_pred)\n",
        "            metrics['precision'] = precision_score(y_val, y_pred)\n",
        "            metrics['accuracy'] = accuracy_score(y_val, y_pred)\n",
        "            metrics['AUC'] = roc_auc_score(y_val, y_pred)\n",
        "        if print_confusion:\n",
        "            print(confusion_matrix(y_val, y_pred))\n",
        "        return metrics\n",
        "\n",
        "\n",
        "    def feature_importance(self):\n",
        "        feat_imp = []\n",
        "        for name, importance in zip(self.features_names , self.model.feature_importances_):\n",
        "            feat_imp.append((name, importance))\n",
        "        feat_imp.sort(key=lambda t:t[1], reverse=True)\n",
        "        return feat_imp\n",
        "\n",
        "\n",
        "    def plot_tree(self):\n",
        "        plt.figure(figsize=(15,10))  # set plot size (denoted in inches)\n",
        "        tree.plot_tree(self.model, fontsize=10, class_names=['pass','fail'])\n",
        "        plt.show()\n",
        "\n",
        "\n",
        "    def get_nodes_type(self):\n",
        "        children_left = self.tree.children_left\n",
        "        children_right = self.tree.children_right\n",
        "        node_depth = np.zeros(shape=self.n_nodes, dtype=np.int64)\n",
        "        is_leaves = np.zeros(shape=self.n_nodes, dtype=bool)\n",
        "        stack = [(0, 0)]  # start with the root node id (0) and its depth (0)\n",
        "        while len(stack) > 0:\n",
        "            # 'pop' ensures each node is only visited once\n",
        "            node_id, depth = stack.pop()\n",
        "            node_depth[node_id] = depth\n",
        "            # If the left and right child of a node is not the same we have a split node\n",
        "            is_split_node = children_left[node_id] != children_right[node_id]\n",
        "            # If a split node, append left and right children and depth to `stack`\n",
        "            # so we can loop through them\n",
        "            if is_split_node:\n",
        "                stack.append((children_left[node_id], depth + 1))\n",
        "                stack.append((children_right[node_id], depth + 1))\n",
        "            else:\n",
        "                is_leaves[node_id] = True\n",
        "        return is_leaves\n",
        "\n",
        "\n",
        "    def node_is_leaf(self, node):\n",
        "        \"\"\"Returns whether a node is a leaf (terminal node) or a split node\"\"\"\n",
        "        return self.nodes_type[node]==1\n",
        "\n",
        "\n",
        "    def set_node_threshold(self, node, value):\n",
        "        if node>=self.tree.node_count:\n",
        "            print(\"Error: selected node id is not in the tree.\")\n",
        "            return\n",
        "        if self.node_is_leaf(node):\n",
        "            print(\"Error: can't change a leaf node's threshold.\")\n",
        "            return\n",
        "        self.thresholds[node] = value \n",
        "\n",
        "\n",
        "    def set_node_feature(self, node, feat_index=None, feat_name=None):\n",
        "        if node>=self.tree.node_count:\n",
        "            print(\"Error: selected node id is not in the tree.\")\n",
        "            return\n",
        "        if self.node_is_leaf(node):\n",
        "            print(\"Error: can't change a terminal node's feature.\")\n",
        "            return\n",
        "        # convert feature name to index if supplied with name\n",
        "        if feat_index==None:\n",
        "            feat_index = self.features_names.index(feat_name)\n",
        "        self.features[node] = feat_index"
      ]
    },
    {
      "cell_type": "markdown",
      "metadata": {
        "id": "npr9M5hTGFb2"
      },
      "source": [
        "### State Generation"
      ]
    },
    {
      "cell_type": "markdown",
      "metadata": {
        "id": "gjxGhD5mz0Zc"
      },
      "source": [
        "#### Meth1"
      ]
    },
    {
      "cell_type": "code",
      "execution_count": 42,
      "metadata": {
        "id": "3kUzGuA_GFb6"
      },
      "outputs": [],
      "source": [
        "def tree_convolution_1(model, features, thresholds, node=0):\n",
        "    \"\"\"\n",
        "        convolution of each 3 nodes, with overlapping => child of 1 subtree is parent of the next\n",
        "        => after each conv, slit nodes' featuress and thresholdss are updated and terminal nodes are removed\n",
        "        returns new features,thresholds values as lists\n",
        "    \"\"\"\n",
        "    visited = []\n",
        "    queue = []\n",
        "    visited.append(node)\n",
        "    queue.append(node)\n",
        "    new_features = features\n",
        "    new_thresholds = thresholds\n",
        "\n",
        "    # BFS traversal\n",
        "    while queue:\n",
        "        node = queue.pop(0) \n",
        "        left_node = model.tree.children_left[node]\n",
        "        right_node = model.tree.children_right[node]\n",
        "        #print (node, left_node, right_node, end = \"\\n\")\n",
        "        if left_node not in visited:\n",
        "            visited.append(left_node)\n",
        "            queue.append(left_node)\n",
        "        if right_node not in visited:\n",
        "            visited.append(right_node)\n",
        "            queue.append(right_node)\n",
        "\n",
        "        # define kernel here\n",
        "        if features[left_node]==-2 and features[right_node]==-2: # both child nodes are leaves\n",
        "            new_node_features = -2\n",
        "            new_node_thresholds = 0\n",
        "        elif features[left_node]==-2: # left node is leaf\n",
        "            new_node_features = (features[node]+features[right_node])/2\n",
        "            new_node_thresholds = (thresholds[node]+thresholds[right_node])/2\n",
        "        elif features[right_node]==-2: # right node is leaf\n",
        "            new_node_features = (features[node]+features[left_node])/2\n",
        "            new_node_thresholds = (thresholds[node]+thresholds[left_node])/2\n",
        "        else:\n",
        "            new_node_features = (features[node]+features[left_node]+features[right_node])/3\n",
        "            new_node_thresholds = (thresholds[node]+thresholds[left_node]+thresholds[right_node])/3\n",
        "        # save new values\n",
        "        new_features[node] = new_node_features # will auto convert to int \n",
        "        new_thresholds[node] = new_node_thresholds\n",
        "\n",
        "    return new_features, new_thresholds\n",
        "\n",
        "\n",
        "def flatten(features, thresholds):\n",
        "    # removing null values\n",
        "    clean_feat, clean_thres = [], []\n",
        "    for i in range(len(features)):\n",
        "        if features[i]!=-2:\n",
        "            clean_feat.append(features[i])\n",
        "            clean_thres.append(thresholds[i])\n",
        "    return torch.cat((torch.FloatTensor(clean_feat), torch.FloatTensor(clean_thres))).to(device)\n",
        "\n",
        "\n",
        "def generate_state_1(model, features, thresholds, nbr_of_conv):\n",
        "    features, thresholds = features.copy(), thresholds.copy()\n",
        "    for _ in range(nbr_of_conv):\n",
        "        new_features, new_thresholds = tree_convolution_1(model, features, thresholds) # model must be fitted => add condition?\n",
        "        features, thresholds = new_features, new_thresholds\n",
        "    return flatten(features, thresholds)\n"
      ]
    },
    {
      "cell_type": "markdown",
      "metadata": {
        "id": "mJaDuhgFz0Zd"
      },
      "source": [
        "#### Meth2: 1 hot enc"
      ]
    },
    {
      "cell_type": "code",
      "execution_count": 43,
      "metadata": {
        "id": "eEgK_6pez0Ze"
      },
      "outputs": [],
      "source": [
        "from sklearn.preprocessing import OneHotEncoder\n",
        "\n",
        "\n",
        "def tree_convolution_2(model, encoded_nodes, node=0):\n",
        "    \"\"\"\n",
        "        convolution of each 3 nodes, with overlapping => child of 1 subtree is parent of the next\n",
        "        => after each conv, slit nodes' featuress and thresholdss are updated and terminal nodes are removed\n",
        "        takes a 1 hot representation of a tree and returns it after one convolution (same shape)\n",
        "    \"\"\"\n",
        "    new_encoded_nodes = encoded_nodes.copy()\n",
        "    \n",
        "    visited = []\n",
        "    queue = []\n",
        "    visited.append(node)\n",
        "    queue.append(node)\n",
        "    # BFS traversal\n",
        "    while queue:\n",
        "        node = queue.pop(0) \n",
        "        left_node = model.tree.children_left[node]\n",
        "        right_node = model.tree.children_right[node]\n",
        "        #print (node, left_node, right_node, end = \"\\n\")\n",
        "        if left_node not in visited:\n",
        "            visited.append(left_node)\n",
        "            queue.append(left_node)\n",
        "        if right_node not in visited:\n",
        "            visited.append(right_node)\n",
        "            queue.append(right_node)\n",
        "\n",
        "        # define kernel here\n",
        "        if encoded_nodes[left_node] is None and encoded_nodes[right_node] is None: # both child nodes are leaves\n",
        "            new_enc_node = None\n",
        "        elif encoded_nodes[left_node] is None: # left node is leaf\n",
        "            vect1 = encoded_nodes[node]\n",
        "            vect2 = encoded_nodes[right_node]\n",
        "            new_enc_node = node_aggregate(vect1, vect2)\n",
        "        elif encoded_nodes[right_node] is None: # right node is leaf\n",
        "            vect1 = encoded_nodes[node]\n",
        "            vect2 = encoded_nodes[left_node]\n",
        "            new_enc_node = node_aggregate(vect1, vect2)\n",
        "        else:\n",
        "            vect1 = encoded_nodes[node]\n",
        "            vect2 = encoded_nodes[left_node]\n",
        "            vect3 = encoded_nodes[right_node]\n",
        "            new_enc_node = node_aggregate(vect1, vect2, vect3)\n",
        "        # save new values\n",
        "        new_encoded_nodes[node] = new_enc_node\n",
        "\n",
        "    return new_encoded_nodes\n",
        "\n",
        "\n",
        "def node_aggregate(vect1, vect2, vect3=None):\n",
        "    \"\"\"\n",
        "        given 2 or 3 vectors,\n",
        "        for all attributes\n",
        "        if all vectors contain the same attribute, this will average them\n",
        "        else it will keep the non null value\n",
        "    \"\"\"\n",
        "    out = vect1\n",
        "    if vect3 is None:\n",
        "        for i in range(number_of_attributes):\n",
        "            if vect1[i]!=0 and vect2[i]==0:\n",
        "                out[i] = vect1[i]\n",
        "            if vect1[i]!=0 and vect2[i]!=0:\n",
        "                out[i] = (vect1[i]+vect2[i])/2\n",
        "    else:\n",
        "        for i in range(number_of_attributes):\n",
        "            if vect1[i]==0:\n",
        "                if vect2[i]!=0 and vect3[i]!=0:\n",
        "                    out[i] = (vect2[i]+vect3[i])/2\n",
        "                if vect2[i]==0 and vect3[i]!=0:\n",
        "                    out[i] = vect3[i]\n",
        "                if vect2[i]!=0 and vect3[i]==0:\n",
        "                    out[i] = vect2[i]\n",
        "\n",
        "            else:\n",
        "            # if vect1[i]!=0:\n",
        "                if vect2[i]!=0 and vect3[i]!=0:\n",
        "                    out[i] = (vect1[i]+vect2[i]+vect3[i])/2\n",
        "                if vect2[i]==0 and vect3[i]!=0:\n",
        "                    out[i] = (vect1[i]+vect3[i])/2\n",
        "                if vect2[i]!=0 and vect3[i]==0:\n",
        "                    out[i] = (vect1[i]+vect2[i])/2\n",
        "    return out\n",
        "\n",
        "\n",
        "def encode_tree(model):\n",
        "    \"\"\"\n",
        "        Creates a vector representation to a decision tree\n",
        "        each node is represented by a 1 hot vector containing the threshold at the attribute's index\n",
        "        output is 1D Tensor of node representations\n",
        "    \"\"\"\n",
        "    # fit 1 hot encoder\n",
        "    enc = OneHotEncoder()\n",
        "    arr = np.array(range(number_of_attributes)).reshape(-1, 1)\n",
        "    enc.fit(arr)\n",
        "\n",
        "    # build init vect\n",
        "    n = len(model.features)\n",
        "    encoded_nodes = []\n",
        "    for i in range(n):\n",
        "        feat, thres = model.features[i], model.thresholds[i]\n",
        "        if feat==-2:\n",
        "            encoded_nodes.append(None)\n",
        "            continue\n",
        "        enc_node = enc.transform([[feat]])*thres\n",
        "        encoded_nodes.append(enc_node.toarray()[0])\n",
        "\n",
        "    return encoded_nodes\n",
        "\n",
        "\n",
        "def shorten_state(encoded_nodes):\n",
        "    # finding the new state size\n",
        "    n = len(encoded_nodes)\n",
        "    out_size = n*number_of_attributes\n",
        "    for node in encoded_nodes:\n",
        "        if node is None:\n",
        "            out_size -= number_of_attributes\n",
        "    \n",
        "    out = torch.zeros(out_size).to(device)\n",
        "    \n",
        "    # removing None values / terminal nodes\n",
        "    k = -1\n",
        "    for i in range(n):\n",
        "        node = encoded_nodes[i]\n",
        "        if node is None:\n",
        "            continue\n",
        "        k += 1\n",
        "        for j in range(number_of_attributes):\n",
        "            out[k * number_of_attributes + j] = node[j]\n",
        "    return out\n",
        "\n",
        "\n",
        "def generate_state_2(model, nbr_of_conv):\n",
        "    encoded_nodes = encode_tree(model)\n",
        "    for _ in range(nbr_of_conv):\n",
        "        new_encoded_nodes = tree_convolution_2(model, encoded_nodes) # model must be fitted => add condition?\n",
        "        encoded_nodes = new_encoded_nodes\n",
        "    return shorten_state(encoded_nodes)"
      ]
    },
    {
      "cell_type": "markdown",
      "metadata": {
        "id": "MBoX2V30z0Zf"
      },
      "source": [
        "#### Choose Convolution Method"
      ]
    },
    {
      "cell_type": "code",
      "execution_count": 44,
      "metadata": {
        "id": "G7r2C0bzz0Zf"
      },
      "outputs": [],
      "source": [
        "use_meth_1 = True\n",
        "\n",
        "def generate_state(model, features, thresholds, nbr_of_conv):\n",
        "    \"\"\" Choose which convolution method to use\"\"\"\n",
        "    if use_meth_1:\n",
        "        return generate_state_1(model, features, thresholds, nbr_of_conv=0)\n",
        "    else:\n",
        "        return generate_state_2(model, nbr_of_conv)"
      ]
    },
    {
      "cell_type": "markdown",
      "metadata": {
        "id": "CHxiDxA1GFb_"
      },
      "source": [
        "### RL Agent Definition"
      ]
    },
    {
      "cell_type": "code",
      "execution_count": 45,
      "metadata": {
        "id": "JvPXR-dglv1c"
      },
      "outputs": [],
      "source": [
        "import numpy as np\n",
        "import random\n",
        "\n",
        "from collections import namedtuple, deque\n",
        "import torch\n",
        "import torch.nn as nn\n",
        "import torch.nn.functional as F\n",
        "import torch.optim as optim\n",
        "import time\n",
        "#from torch.utils.tensorboard import SummaryWriter\n",
        "\n",
        "device = torch.device(\"cuda:0\" if torch.cuda.is_available() else \"cpu\")"
      ]
    },
    {
      "cell_type": "code",
      "execution_count": 46,
      "metadata": {
        "id": "UtpIy8-Wlyj5"
      },
      "outputs": [],
      "source": [
        "class ThresholdsNetwork(nn.Module):\n",
        "    \"\"\"Network that will predict the new thresholds vector given a state.\"\"\"\n",
        "\n",
        "\n",
        "    def __init__(self, state_size, threshold_vector_size, seed, hidden_size=32):\n",
        "        \"\"\"Initialize parameters and build model.\n",
        "        Params\n",
        "        ======\n",
        "            state_size (int): Dimension of each state\n",
        "            threshold_vector_size (int): Dimension of each action\n",
        "            seed (int): Random seed\n",
        "            hidden_size (int): Number of nodes in the hidden layer\n",
        "        \"\"\"\n",
        "        super(ThresholdsNetwork, self).__init__()\n",
        "        self.seed = torch.manual_seed(seed)     \n",
        "        self.fc1 = nn.Linear(state_size, hidden_size)\n",
        "        #self.fc2 = nn.Linear(hidden_size, hidden_size)\n",
        "        self.fc3 = nn.Linear(hidden_size, threshold_vector_size)\n",
        "\n",
        "\n",
        "    def forward(self, state):\n",
        "        x = F.relu(self.fc1(state), inplace=True)\n",
        "        #x = F.relu(self.fc2(x), inplace=True)\n",
        "        out = F.relu(self.fc3(x))\n",
        "        return out\n",
        "    \n",
        "\n",
        "    def get_thresholds_vector(self, state):\n",
        "        threshold_vector = self.forward(state).to(device)\n",
        "        return threshold_vector"
      ]
    },
    {
      "cell_type": "code",
      "execution_count": 47,
      "metadata": {
        "id": "oBuGtzpomnrn"
      },
      "outputs": [],
      "source": [
        "class AttributeNetwork(nn.Module):\n",
        "    \"\"\"Network that will select a new attribute for a tree node given the environment state and thresholds vector.\"\"\"\n",
        "\n",
        "    def __init__(self, state_size, threshold_vector_size, number_of_attributes, seed, hidden_size=32):\n",
        "        \"\"\"Initialize parameters and build model.\n",
        "        Params\n",
        "        ======\n",
        "            state_size (int): Dimension of each state\n",
        "            threshold_vector_size (int): Dimension of each threshold vector\n",
        "            seed (int): Random seed\n",
        "            hidden_size (int): Number of nodes in the network's hidden layer\n",
        "\n",
        "        \"\"\"\n",
        "        super(AttributeNetwork, self).__init__()\n",
        "        self.seed = torch.manual_seed(seed)\n",
        "        self.fc1 = nn.Linear(state_size+threshold_vector_size, hidden_size)\n",
        "        #self.fc2 = nn.Linear(hidden_size, hidden_size)\n",
        "        self.fc3 = nn.Linear(hidden_size, number_of_attributes)\n",
        "\n",
        "\n",
        "    def forward(self, state, threshold_vector):\n",
        "        \"\"\"Build a critic (attribute) network that maps (state, threshold_vector) pairs -> Q-values for each attribute.\"\"\"\n",
        "        x = torch.cat((state, threshold_vector), dim=-1)\n",
        "        x = F.relu(self.fc1(x))\n",
        "        #x = F.relu(self.fc2(x))\n",
        "        return F.relu(self.fc3(x))\n",
        "\n",
        "\n",
        "    def get_attributes_vector(self, state, threshold_vector, Xe_vect=False):\n",
        "        if Xe_vect:\n",
        "            # the input threshold vector is Xe instead of X; for the calc of target yb\n",
        "            attributes_vector = self.forward(state, threshold_vector)\n",
        "\n",
        "        else:\n",
        "            # decompose (st,X) input into (st,Xe_k) for each k \n",
        "            attributes_vector = torch.zeros(len(threshold_vector)).to(device)\n",
        "            X = threshold_vector\n",
        "            for k in range(len(X)):\n",
        "                Xe = torch.zeros(len(X)).to(device)    \n",
        "                Xe[k] = X[k]\n",
        "                q_vect = self.forward(state,Xe)\n",
        "                attributes_vector[k] = q_vect[k]\n",
        "        return attributes_vector"
      ]
    },
    {
      "cell_type": "code",
      "execution_count": 48,
      "metadata": {
        "id": "qvkm_2I6GFcO"
      },
      "outputs": [],
      "source": [
        "class ReplayBuffer:\n",
        "    \"\"\"Fixed-size buffer to store experience tuples.\"\"\"\n",
        "\n",
        "\n",
        "    def __init__(self, buffer_size, batch_size, seed):\n",
        "        \"\"\"Initialize a ReplayBuffer object.\n",
        "        Params\n",
        "        ======\n",
        "            buffer_size (int): maximum size of buffer\n",
        "            batch_size (int): size of each training batch\n",
        "        \"\"\"\n",
        "        self.memory = deque(maxlen=buffer_size)  # internal memory (deque)\n",
        "        self.batch_size = batch_size\n",
        "        self.experience = namedtuple(\"Experience\", field_names=[\"state\", \"action\", \"reward\", \"next_state\", \"done\"])\n",
        "        self.seed = random.seed(seed)\n",
        "\n",
        "\n",
        "    def add(self, state, action, reward, next_state, done):\n",
        "        \"\"\"Add a new experience to memory.\"\"\"\n",
        "        e = self.experience(state, action, reward, next_state, done)\n",
        "        self.memory.append(e)\n",
        "\n",
        "\n",
        "    def sample(self):\n",
        "        \"\"\"Randomly sample a batch of experiences from memory.\"\"\"\n",
        "        experiences = random.sample(self.memory, k=self.batch_size)\n",
        "        states = torch.vstack([e.state for e in experiences if e is not None]).float().to(device)\n",
        "        actions = torch.vstack([torch.tensor(e.action) for e in experiences if e is not None]).float().to(device)\n",
        "        rewards = torch.vstack([torch.tensor(e.reward) for e in experiences if e is not None]).float().to(device)\n",
        "        next_states = torch.vstack([e.next_state for e in experiences if e is not None]).float().to(device)\n",
        "        dones = torch.vstack([torch.tensor(e.done) for e in experiences if e is not None]).float().to(device)\n",
        "        return zip(states, actions, rewards, next_states, dones)\n",
        "\n",
        "\n",
        "    def __len__(self):\n",
        "        \"\"\"Return the current size of internal memory.\"\"\"\n",
        "        return len(self.memory)\n",
        "    "
      ]
    },
    {
      "cell_type": "code",
      "execution_count": 49,
      "metadata": {
        "id": "6TAr3AwlnXEW"
      },
      "outputs": [],
      "source": [
        "import dill as pickle\n",
        "\n",
        "class Agent():\n",
        "    \"\"\"Interacts with and learns from the environment.\"\"\"\n",
        "    \n",
        "\n",
        "    def __init__(self, state_size, threshold_vector_size, number_of_attributes, random_seed, hidden_size):\n",
        "        \"\"\"Initialize an Agent object.\n",
        "        \n",
        "        Params\n",
        "        ======\n",
        "            state_size (int): dimension of each state\n",
        "            threshold_vector_size (int): dimension of each threshold vector\n",
        "            random_seed (int): random seed\n",
        "            add rest\n",
        "        \"\"\"\n",
        "        self.state_size = state_size\n",
        "        self.threshold_vector_size = threshold_vector_size\n",
        "        self.number_of_attributes = number_of_attributes\n",
        "        self.seed = random.seed(random_seed)\n",
        "        print(\"Using: \", device)\n",
        "\n",
        "        # actor Network \n",
        "        self.ThresholdsNetwork = ThresholdsNetwork(state_size, threshold_vector_size, random_seed, hidden_size).to(device)\n",
        "        self.optimizer_ThresholdsNetwork = optim.Adam(self.ThresholdsNetwork.parameters(), lr=LR_ACTOR)     \n",
        "        \n",
        "        # critic Network  \n",
        "        self.AttributeNetwork = AttributeNetwork(state_size, threshold_vector_size, number_of_attributes, random_seed, hidden_size).to(device)\n",
        "        self.optimizer_AttributeNetwork = optim.Adam(self.AttributeNetwork.parameters(), lr=LR_CRITIC, weight_decay=0)\n",
        "\n",
        "        # Replay memory\n",
        "        self.memory = ReplayBuffer(BUFFER_SIZE, BATCH_SIZE, random_seed)\n",
        "        \n",
        "\n",
        "    def act(self, state, eps=0.2):\n",
        "        \"\"\"Returns actions for given state as per current policy.\"\"\"\n",
        "        # greedy epsilon with param eps\n",
        "        thresholds_vector = self.ThresholdsNetwork.get_thresholds_vector(state)\n",
        "\n",
        "        p = np.random.random() \n",
        "        if p<eps:\n",
        "            index_selected_attribute = random.choice(range(self.number_of_attributes))\n",
        "        else:\n",
        "            attributes_vector = self.AttributeNetwork.get_attributes_vector(state, thresholds_vector)\n",
        "            index_selected_attribute = torch.argmax(attributes_vector)\n",
        "        action = (index_selected_attribute, thresholds_vector.squeeze(0)[index_selected_attribute])\n",
        "\n",
        "        return action\n",
        "\n",
        "\n",
        "    def step(self, state, action, reward, next_state, done):\n",
        "        \"\"\"Save experience in replay memory, and use random sample from buffer to learn.\"\"\"\n",
        "        # Save experience / reward\n",
        "        self.memory.add(state, action, reward, next_state, done)\n",
        "\n",
        "        # if enough samples are available in memory\n",
        "        # sample a minibatch and learn/update networks\n",
        "        if len(self.memory) > BATCH_SIZE:\n",
        "            experiences = self.memory.sample()\n",
        "            self.learn(experiences, GAMMA)\n",
        "\n",
        "\n",
        "    def learn(self, experiences, gamma):\n",
        "        \"\"\"Updates the two neural networks using given batch of experience tuples.\n",
        "            thresholds_target(state) -> Xt vector\n",
        "            attributes_target(state, Xt) -> Q-value\n",
        "            see paper/report for notation\n",
        "        Params\n",
        "        ======\n",
        "            experiences (Tuple[torch.Tensor]): tuple of (s, a, r, s', done) tuples \n",
        "            gamma (float): discount factor\n",
        "        \"\"\"\n",
        "        Q_loss, X_loss = [], []\n",
        "        \n",
        "        for experience in experiences: # for b in B\n",
        "            state, action, reward, next_state, done = experience\n",
        "            sb = state\n",
        "            k_act = int(action[0].item())\n",
        "            rb = reward\n",
        "            sb1 = next_state # S_{b+1}\n",
        "            Xb1 = self.ThresholdsNetwork.get_thresholds_vector(sb1) # X_{b+1}\n",
        "            Xb = self.ThresholdsNetwork.get_thresholds_vector(sb) # X_{b}\n",
        "\n",
        "            # yb calc\n",
        "            \n",
        "            # get max_k(Qq)\n",
        "            Qq = []\n",
        "            for k in range(self.number_of_attributes):\n",
        "                # get Xe_{b+1}\n",
        "                Xeb1k = torch.zeros(len(Xb1)).to(device)\n",
        "                Xeb1k[k] = Xb1[k]\n",
        "                qek = torch.max(self.AttributeNetwork.get_attributes_vector(sb1, Xeb1k, Xe_vect=True))\n",
        "                Qq.append(qek)\n",
        "            maxQq = torch.max(torch.Tensor(Qq))\n",
        "\n",
        "            if done: # terminal node\n",
        "                yb = rb\n",
        "            else:\n",
        "                yb = rb + gamma * maxQq\n",
        "\n",
        "            # compute losses for single transitions\n",
        "\n",
        "            # Q loss\n",
        "            xebk = torch.zeros(len(Xb)).to(device)\n",
        "            xebk[k_act] = Xb[k_act]\n",
        "            Q_loss.append(yb-self.AttributeNetwork.get_attributes_vector(sb, xebk, Xe_vect=True)[k_act])\n",
        "            \n",
        "            # X loss\n",
        "            sum_Qq = 0\n",
        "            for k in range(self.number_of_attributes):\n",
        "                Xebk = torch.zeros(len(Xb)).to(device)\n",
        "                Xebk[k] = Xb[k] \n",
        "                # Xe_{b,k}\n",
        "                qek = self.AttributeNetwork.get_attributes_vector(sb1, Xebk, Xe_vect=True)\n",
        "                sum_Qq += qek[k]\n",
        "            X_loss.append(-sum_Qq)\n",
        "\n",
        "        # compute losses as expectation over the experiences batch and update networks\n",
        "\n",
        "        # update thresholds network\n",
        "        # Compute loss\n",
        "        loss_thresholds_network = torch.mean(torch.Tensor(Q_loss))\n",
        "        loss_thresholds_network.requires_grad_()\n",
        "        # Minimize the loss\n",
        "        self.optimizer_ThresholdsNetwork.zero_grad()\n",
        "        loss_thresholds_network.backward()\n",
        "        self.optimizer_ThresholdsNetwork.step()\n",
        "\n",
        "        # update attribute network\n",
        "        # Compute loss\n",
        "        loss_attribute_network = torch.mean(torch.Tensor(X_loss))\n",
        "        loss_attribute_network.requires_grad_()\n",
        "        # Minimize the loss\n",
        "        self.optimizer_AttributeNetwork.zero_grad()\n",
        "        loss_attribute_network.backward()\n",
        "        self.optimizer_AttributeNetwork.step()\n",
        "\n",
        "    \n",
        "    def load_checkpoint(self, ep):\n",
        "        # actor/thresholds Network \n",
        "        actor_net_path = f'./checkpoints/ep{ep}-actor.pth'     \n",
        "        checkpoint = torch.load(actor_net_path)\n",
        "        self.ThresholdsNetwork.load_state_dict(checkpoint['model_state_dict'])\n",
        "        self.optimizer_ThresholdsNetwork.load_state_dict(checkpoint['optimizer_state_dict'])\n",
        "\n",
        "        # critic/attribute Network  \n",
        "        actor_net_path = f'./checkpoints/ep{ep}-critic.pth'     \n",
        "        checkpoint = torch.load(actor_net_path)\n",
        "        self.AttributeNetwork.load_state_dict(checkpoint['model_state_dict'])\n",
        "        self.optimizer_AttributeNetwork.load_state_dict(checkpoint['optimizer_state_dict'])\n",
        "        \n",
        "        # Replay memory\n",
        "        with open(f'./checkpoints/ep{ep}-memory.pkl','rb') as f:\n",
        "            self.memory.memory = pickle.load(f)\n",
        "    \n",
        "\n",
        "    def save_checkpoint(self, ep):\n",
        "        # actor/thresholds Network \n",
        "        torch.save({\n",
        "            'model_state_dict': self.ThresholdsNetwork.state_dict(),\n",
        "            'optimizer_state_dict': self.optimizer_ThresholdsNetwork.state_dict(),\n",
        "            }, f'./checkpoints/ep{ep}-actor.pth')\n",
        "        \n",
        "        # critic/attribute Network  \n",
        "        torch.save({\n",
        "            'model_state_dict': self.AttributeNetwork.state_dict(),\n",
        "            'optimizer_state_dict': self.optimizer_AttributeNetwork.state_dict(),\n",
        "            }, f'./checkpoints/ep{ep}-critic.pth')\n",
        "\n",
        "        # Replay memory\n",
        "        with open(f'./checkpoints/ep{ep}-memory.pkl','wb') as f:\n",
        "            pickle.dump(self.memory.memory, f)\n"
      ]
    },
    {
      "cell_type": "code",
      "execution_count": 72,
      "metadata": {
        "id": "E0JMe-AkYD54"
      },
      "outputs": [],
      "source": [
        "prev_metric = 0\n",
        "\n",
        "def env_step(model, node, action):\n",
        "    \"\"\"\n",
        "        Environment step: updates the DT model given a node and an action\n",
        "        and return the reward the new state of the tree.\n",
        "    \"\"\"\n",
        "    # update tree\n",
        "    model.set_node_feature(node, feat_index=action[0])\n",
        "    model.set_node_threshold(node, value=action[1])\n",
        "    next_state = generate_state(model, model.features, model.thresholds, nbr_of_conv)\n",
        "    # calc reward\n",
        "    global prev_metric\n",
        "    metrics = model.evaluate(X_train, y_train)\n",
        "    current_metric = metrics['F1']\n",
        "    reward = current_metric-prev_metric \n",
        "    prev_metric = current_metric\n",
        "    done = 0\n",
        "    if model.node_is_leaf(node):\n",
        "        done = 1    \n",
        "    info = 0\n",
        "    return next_state, reward, done, info "
      ]
    },
    {
      "cell_type": "markdown",
      "metadata": {
        "id": "AfEIgIFiz0Zk"
      },
      "source": [
        "#### Launch"
      ]
    },
    {
      "cell_type": "code",
      "execution_count": 73,
      "metadata": {
        "colab": {
          "base_uri": "https://localhost:8080/"
        },
        "id": "FMPTGoNu2LHC",
        "outputId": "c7cf25f8-4421-41bb-e6b6-68623b4ba543"
      },
      "outputs": [
        {
          "name": "stderr",
          "output_type": "stream",
          "text": [
            "UsageError: Line magic function `%` not found.\n"
          ]
        }
      ],
      "source": [
        "# Folder to save checkpoints and results in\n",
        "% cd /content/drive/MyDrive/CI"
      ]
    },
    {
      "cell_type": "code",
      "execution_count": 76,
      "metadata": {
        "colab": {
          "base_uri": "https://localhost:8080/"
        },
        "id": "mCsp4HmwnivF",
        "outputId": "ba3741d7-4efe-4968-cf59-a27866b07086"
      },
      "outputs": [
        {
          "name": "stdout",
          "output_type": "stream",
          "text": [
            "Using:  cpu\n",
            "tree depth=7, state size=207, number of attribute=31\n",
            "Evaluation: cross_proj_candybar-library\n"
          ]
        },
        {
          "name": "stderr",
          "output_type": "stream",
          "text": [
            " 95%|█████████▍| 196/207 [00:01<00:00, 121.74it/s]\n"
          ]
        },
        {
          "name": "stdout",
          "output_type": "stream",
          "text": [
            "Episode: 1, F1 score: 0.78, AUC: 0.47\n"
          ]
        },
        {
          "name": "stderr",
          "output_type": "stream",
          "text": [
            " 14%|█▍        | 29/207 [00:00<00:01, 103.85it/s]\n"
          ]
        },
        {
          "name": "stdout",
          "output_type": "stream",
          "text": [
            "Episode: 2, F1 score: 0.43, AUC: 0.57\n"
          ]
        },
        {
          "name": "stderr",
          "output_type": "stream",
          "text": [
            " 86%|████████▌ | 177/207 [01:31<00:15,  1.93it/s]\n"
          ]
        },
        {
          "name": "stdout",
          "output_type": "stream",
          "text": [
            "Episode: 3, F1 score: 0.75, AUC: 0.67\n"
          ]
        },
        {
          "name": "stderr",
          "output_type": "stream",
          "text": [
            "100%|██████████| 207/207 [02:13<00:00,  1.55it/s]\n"
          ]
        },
        {
          "name": "stdout",
          "output_type": "stream",
          "text": [
            "Episode: 4, F1 score: 0.78, AUC: 0.48\n"
          ]
        },
        {
          "name": "stderr",
          "output_type": "stream",
          "text": [
            "100%|██████████| 207/207 [02:10<00:00,  1.58it/s]\n"
          ]
        },
        {
          "name": "stdout",
          "output_type": "stream",
          "text": [
            "Episode: 5, F1 score: 0.78, AUC: 0.47\n"
          ]
        },
        {
          "name": "stderr",
          "output_type": "stream",
          "text": [
            " 51%|█████     | 105/207 [01:08<01:08,  1.50it/s]"
          ]
        }
      ],
      "source": [
        "from tqdm import tqdm\n",
        "import csv\n",
        "\n",
        "t0 = time.time()\n",
        "\n",
        "# DL hyper-parameters\n",
        "HIDDEN_SIZE = 32\n",
        "BUFFER_SIZE = int(1e6)\n",
        "BATCH_SIZE = 128\n",
        "LR_ACTOR = 1e-2  \n",
        "LR_CRITIC = 1e-2\n",
        "# RL hyper-parameters\n",
        "GAMMA = 0.99      # reward calc\n",
        "n_episodes = 1000\n",
        "save_every = 1000\n",
        "# DT hyper-parameters \n",
        "max_depth = 7\n",
        "use_meth_1 = True\n",
        "nbr_of_conv = 2\n",
        "# random seed\n",
        "seed = 42\n",
        "np.random.seed(seed)\n",
        "torch.manual_seed(seed)\n",
        "# disable warnings (metrics /0)\n",
        "import warnings\n",
        "warnings.filterwarnings(\"ignore\")\n",
        "\n",
        "# initialization \n",
        "model = modDecisionTree(max_depth=max_depth)\n",
        "model.fit(X_train, y_train, df.columns)\n",
        "number_of_attributes = X_train.shape[1]\n",
        "threshold_vector_size = X_train.shape[1]\n",
        "state = generate_state(model, model.features, model.thresholds, nbr_of_conv)\n",
        "state_size = len(state)+1\n",
        "agent = Agent(state_size, threshold_vector_size, number_of_attributes, seed, HIDDEN_SIZE)\n",
        "#tb_writer = SummaryWriter(\"runs/\") # for TensorBoard\n",
        "os.system('mkdir -p checkpoints results')\n",
        "#os.system('rm -f checkpoints/*')\n",
        "\n",
        "start_ep = 1 # do not change\n",
        "\n",
        "# load checkpoint (comment/uncomment)\n",
        "# \n",
        "# start_ep = 106\n",
        "# agent.load_checkpoint(start_ep-1)\n",
        "# \n",
        "\n",
        "print(f'tree depth={max_depth}, state size={state_size}, number of attribute={number_of_attributes}')\n",
        "print(f'Evaluation: {eval_meth}')\n",
        "\n",
        "for i_episode in range(start_ep, n_episodes+1):\n",
        "\n",
        "    # state init / reset => reset the DT model to initial values\n",
        "    model = modDecisionTree(max_depth=max_depth)\n",
        "    model.fit(X_train, y_train, df.columns)\n",
        "    state = generate_state(model, model.features, model.thresholds, nbr_of_conv)\n",
        "    state = torch.cat((torch.Tensor([0]).to(device), state))\n",
        "    prev_metric = 0\n",
        "\n",
        "    for t in tqdm(range(model.n_nodes)):\n",
        "        if model.node_is_leaf(t):\n",
        "            continue\n",
        "        action = agent.act(state)\n",
        "        # print(f\"node={t}: {model.features[t]}<={model.thresholds[t]} => {action[0]}<={action[1]}\")\n",
        "        next_state, reward, done, info = env_step(model, t, action)\n",
        "        if reward+0.1<0:\n",
        "            break\n",
        "        next_state = torch.cat((torch.Tensor([t]).to(device), next_state))\n",
        "        agent.step(state, action, reward, next_state, done)\n",
        "        state = next_state\n",
        "        res = model.evaluate(X_val, y_val, False, False)\n",
        "        f1score, AUC = res['F1'], res['AUC']\n",
        "        if done:\n",
        "            break\n",
        "    \n",
        "    # save checkpoint to resume training\n",
        "    if i_episode % save_every==0:\n",
        "        agent.save_checkpoint(i_episode)\n",
        "\n",
        "    # save results to a csv file\n",
        "    with open(f'./results/{eval_meth}.csv','a') as f:\n",
        "        csv_writer = csv.writer(f)\n",
        "        csv_writer.writerow([i_episode, f1score, AUC])\n",
        "\n",
        "    # save results for Tensorboard\n",
        "    #tb_writer.add_scalar(\"Average F1 score\", f1score, i_episode)\n",
        "\n",
        "    # display classification metrics\n",
        "    print(f'\\rEpisode: {i_episode}, F1 score: {round(f1score,2)}, AUC: {round(AUC,2)}')\n",
        "\n",
        "print(f\"final score: \", model.evaluate(X_val, y_val, False, True))\n",
        "t1 = time.time()\n",
        "print(\"training took {} min!\".format((t1-t0)/60))\n"
      ]
    },
    {
      "cell_type": "markdown",
      "metadata": {},
      "source": [
        "#### Features Importance"
      ]
    },
    {
      "cell_type": "code",
      "execution_count": null,
      "metadata": {
        "colab": {
          "base_uri": "https://localhost:8080/",
          "height": 634
        },
        "id": "R3MwZwNFGFcV",
        "outputId": "bcf0a75b-0d84-4b78-ffed-0be7b691f04d"
      },
      "outputs": [
        {
          "name": "stdout",
          "output_type": "stream",
          "text": [
            "[('CM', 0.6100775625519916), ('rexp', 0.09595828923632764), ('CM', 0.09188124360428267), ('is_fix', 0.06905424478741412), ('CM', 0.041784406667940116), ('nuc', 0.021437640302236025), ('CM', 0.016971988271945463), ('CM', 0.015448466970125233), ('CM', 0.01154682477062553), ('CM', 0.006045052292657692), ('same_committer', 0.005671436418237209), ('CM', 0.0049122717214931545), ('exp', 0.0027672308136281317), ('exp', 0.0024565290626773744), ('CM', 0.0020550114423942036), ('exp', 0.0019318010860238277), ('prev_com_res', 0.0), ('nuc', 0.0), ('is_media', 0.0), ('ld', 0.0), ('ld', 0.0), ('CM', 0.0), ('CFT', 0.0), ('CM', 0.0), ('CM', 0.0), ('TFC', 0.0), ('CM', 0.0), ('ndev', 0.0), ('CM', 0.0), ('exp', 0.0), ('CM', 0.0)]\n"
          ]
        },
        {
          "data": {
            "image/png": "[encoded data removed]",
            "text/plain": [
              "<Figure size 1080x720 with 1 Axes>"
            ]
          },
          "metadata": {
            "needs_background": "light"
          },
          "output_type": "display_data"
        }
      ],
      "source": [
        "print(model.feature_importance())\n",
        "model.plot_tree()\n",
        "#df.columns[8]"
      ]
    },
    {
      "cell_type": "code",
      "execution_count": 24,
      "metadata": {
        "id": "5iZIp_HYLQG_"
      },
      "outputs": [
        {
          "name": "stdout",
          "output_type": "stream",
          "text": [
            "[[ 80   7]\n",
            " [109  90]]\n",
            "{'F1': 0.6081081081081081, 'recall': 0.45226130653266333, 'precision': 0.9278350515463918, 'accuracy': 0.5944055944055944, 'AUC': 0.6859007682088604}\n"
          ]
        }
      ],
      "source": [
        "print(model.evaluate(X_val, y_val, False, True))"
      ]
    },
    {
      "cell_type": "code",
      "execution_count": null,
      "metadata": {
        "id": "hsSgIkx1z0Zo"
      },
      "outputs": [],
      "source": []
    }
  ],
  "metadata": {
    "accelerator": "GPU",
    "colab": {
      "collapsed_sections": [],
      "name": "RLCIskip.ipynb",
      "provenance": []
    },
    "interpreter": {
      "hash": "d2152fd7f0bbc62aa1baff8c990435d1e2c7175d001561303988032604c11a48"
    },
    "kernelspec": {
      "display_name": "Python 3.10.4 64-bit",
      "language": "python",
      "name": "python3"
    },
    "language_info": {
      "codemirror_mode": {
        "name": "ipython",
        "version": 3
      },
      "file_extension": ".py",
      "mimetype": "text/x-python",
      "name": "python",
      "nbconvert_exporter": "python",
      "pygments_lexer": "ipython3",
      "version": "3.10.5"
    }
  },
  "nbformat": 4,
  "nbformat_minor": 0
}
